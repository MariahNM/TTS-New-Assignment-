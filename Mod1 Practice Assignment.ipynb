{
 "cells": [
  {
   "cell_type": "code",
   "execution_count": 4,
   "id": "0b461bf4",
   "metadata": {},
   "outputs": [
    {
     "name": "stdout",
     "output_type": "stream",
     "text": [
      "enter your first name Mariah\n"
     ]
    }
   ],
   "source": [
    "first_name = input(\"enter your first name \")"
   ]
  },
  {
   "cell_type": "code",
   "execution_count": 12,
   "id": "1de25cf2",
   "metadata": {},
   "outputs": [
    {
     "name": "stdout",
     "output_type": "stream",
     "text": [
      "Mariah\n"
     ]
    }
   ],
   "source": [
    "print(first_name)"
   ]
  },
  {
   "cell_type": "code",
   "execution_count": 14,
   "id": "97c00175",
   "metadata": {},
   "outputs": [
    {
     "name": "stdout",
     "output_type": "stream",
     "text": [
      "enter your last name Maury\n"
     ]
    }
   ],
   "source": [
    "#Remember to hit enter after typing in your last name\n",
    "last_name = input(\"enter your last name \")"
   ]
  },
  {
   "cell_type": "code",
   "execution_count": 18,
   "id": "064edeee",
   "metadata": {},
   "outputs": [
    {
     "name": "stdout",
     "output_type": "stream",
     "text": [
      "Maury,Mariah\n"
     ]
    }
   ],
   "source": [
    "print (last_name + \",\" + first_name) "
   ]
  },
  {
   "cell_type": "code",
   "execution_count": 1,
   "id": "d84624f9",
   "metadata": {},
   "outputs": [
    {
     "name": "stdout",
     "output_type": "stream",
     "text": [
      "What country are you from? : Ireland\n",
      "I have heard that Ireland is beautiful country!\n"
     ]
    }
   ],
   "source": [
    "country=input(\"What country are you from? : \")\n",
    "print ( \"I have heard that\" ,country, \"is beautiful country!\")"
   ]
  },
  {
   "cell_type": "code",
   "execution_count": 4,
   "id": "d46990d9",
   "metadata": {},
   "outputs": [
    {
     "name": "stdout",
     "output_type": "stream",
     "text": [
      "Input an integer : 2\n",
      "246\n"
     ]
    }
   ],
   "source": [
    "a = int(input(\"Input an integer : \"))\n",
    "n = int( \"%s\" % a)\n",
    "nn = int( \"%s%s\" % (a,a) )\n",
    "nnn = int( \"%s%s%s\" % (a,a,a) )\n",
    "print (n+nn+nnn)"
   ]
  },
  {
   "cell_type": "code",
   "execution_count": 5,
   "id": "46094e4c",
   "metadata": {},
   "outputs": [],
   "source": [
    "x = 10\n",
    "y = 50\n",
    "if (x** 2 > 100 and y < 100):\n",
    "    print(x,y)"
   ]
  },
  {
   "cell_type": "code",
   "execution_count": 6,
   "id": "bb6698d7",
   "metadata": {},
   "outputs": [
    {
     "name": "stdout",
     "output_type": "stream",
     "text": [
      "[10, 20, 30, 40]\n",
      "[10, 20, 30, 40]\n"
     ]
    }
   ],
   "source": [
    "a = [10, 20]\n",
    "b = a\n",
    "b += [30, 40]\n",
    "print(a)\n",
    "print(b)"
   ]
  },
  {
   "cell_type": "code",
   "execution_count": 8,
   "id": "2a4fabb6",
   "metadata": {},
   "outputs": [
    {
     "name": "stdout",
     "output_type": "stream",
     "text": [
      "2\n"
     ]
    }
   ],
   "source": [
    "print(2%6)\n",
    "#The arithmetic being used here is (2 modulo 6 =) \n",
    "#A modulo is a math operation when a one integer is divided by another.It is another way of saying remainder or \"mod\".\n"
   ]
  },
  {
   "cell_type": "code",
   "execution_count": 9,
   "id": "f4a614fb",
   "metadata": {},
   "outputs": [
    {
     "name": "stdout",
     "output_type": "stream",
     "text": [
      "216\n"
     ]
    }
   ],
   "source": [
    "print(2 * 3 ** 3 * 4)\n",
    "#The arithmetic operators used here is multiplication in order. I believe the ** implies to continue mulitplying by thte previous number (3 ** 3 = 3*3*3)"
   ]
  },
  {
   "cell_type": "code",
   "execution_count": 10,
   "id": "dd35fe43",
   "metadata": {},
   "outputs": [],
   "source": [
    "#A text editor is a program that saves your files without formatting.\n",
    "#Python is an interpreted, object-oriented, high-level programming language with dynamic \n",
    "#-semantics (Python.org 2022).\n",
    "\n",
    "#The Jupyter Notebook is an open source web application that you can use to create and \n",
    "#-share documents that contain live code, equations, visualizations, and text. \n",
    "#-Jupyter Notebook is maintained by the people at Project Jupyter (-Project Jupyter 2022).\n",
    "\n",
    "#In Jupyter Notebook, there's a thing called IPython Kernel, which is essentially the \n",
    "#-computational engine that executes the Python code in the back-end. Once we create a virtual environment, we can link it with the kernel so we don't \n",
    "#-have to manually activate the venv every time we need it (jupiterinoffice.com 2022).\n",
    "\n",
    "#Alternatives to Jupyter Notebook are PyCharm. PyCharm is an IDE developed by JetBrain, mostly used for python programming. ...\n",
    "#-Apache Zeppelin. Apache Zeppelin is an open-source web-based tool for data analysis. ...\n",
    "#-RStudio. ...\n",
    "#-Rodeo IDE (Linuxhint.com). "
   ]
  },
  {
   "cell_type": "code",
   "execution_count": null,
   "id": "c37cd8c9",
   "metadata": {},
   "outputs": [],
   "source": []
  }
 ],
 "metadata": {
  "kernelspec": {
   "display_name": "Python 3 (ipykernel)",
   "language": "python",
   "name": "python3"
  },
  "language_info": {
   "codemirror_mode": {
    "name": "ipython",
    "version": 3
   },
   "file_extension": ".py",
   "mimetype": "text/x-python",
   "name": "python",
   "nbconvert_exporter": "python",
   "pygments_lexer": "ipython3",
   "version": "3.9.12"
  }
 },
 "nbformat": 4,
 "nbformat_minor": 5
}
